{
 "cells": [
  {
   "cell_type": "markdown",
   "metadata": {},
   "source": [
    "Reference text\n",
    "**bold**\n",
    "*italics*\n",
    "\n",
    " bullets\n",
    " * point 1\n",
    " * point 2 \n",
    "# Title\n",
    "\n",
    "## Subtitle\n",
    "\n",
    "### SubSubtitle\n",
    "\n",
    "LaTeX equations\n",
    "$ 1 + 1 = 2 $\n",
    "$$ x + y = z $$\n",
    "\n",
    "Markdown cheat sheet\n",
    "https://guides.github.com/pdfs/markdown-cheatsheet-online.pdf"
   ]
  },
  {
   "cell_type": "code",
   "execution_count": 1,
   "metadata": {},
   "outputs": [],
   "source": [
    "%matplotlib inline\n",
    "\n",
    "import matplotlib.pyplot as plt"
   ]
  },
  {
   "cell_type": "markdown",
   "metadata": {},
   "source": [
    "# Steps for run RCA tools\n",
    "\n",
    "The \n",
    "\n",
    "1) Create a daily clutter map \n",
    "\n",
    "    1a) Repeat (1) as needed\n",
    "\n",
    "2) Create a composite clutter map\n",
    "\n",
    "3) Calculate a baseline value\n",
    "\n",
    "4) Calculate a daily median RCA\n",
    "\n",
    "## 1) Create a daily clutter map\n",
    "\n",
    "Daily clutter map(s) must be created FIRST before any RCA calculations may be made.\n",
    "\n",
    "A daily clutter map is generated from a day's worth of radar files. You need only specify the directory of the radar files, the desired date (YYYYMMDD), the scan type (PPI or RHI), and if you're using horizontally or dual-polarized data. This is all done in the a handful of radar- and scan-specific JSON files, which should be modifed by the user for their specifications.\n",
    "\n",
    "The current defaults in, for example, kaband_rhi.json are:\n",
    "\n",
    "    \"config\": \"kaband_rhi\",\n",
    "    \"scan_type\": \"rhi\",\n",
    "    \"polarization\": \"horizontal\",\n",
    "    \"data_directory\": \"/home/user/data/corkasacrcfrhsrhiM1.a1/\",\n",
    "    \"file_extension\": \".nc\",\n",
    "    \"cluttermap_directory\": \"/home/user/clutter_maps/\",\n",
    "    \"cluttermap_date\": \"20181105\",\n",
    "    \"baseline_directory\": \"/home/user/baselines/\",\n",
    "    \"baseline_date\": \"20181108\",\n",
    "    \"daily_csv_dir\": \"/home/user/dailies/\",\n",
    "    \"site_abbrev\": \"cor\",\n",
    "    \"instrument_abbrev\": \"kasacr\",\n",
    "    \"range_limit\": 10000,\n",
    "    \"z_threshold\": 30"
   ]
  },
  {
   "cell_type": "markdown",
   "metadata": {},
   "source": [
    "Call the clutter_map function from clutter_map.py. You will need to adjust the paramters in the clutter_maps.json configuration file before using the JSON file as input for the funtion.\n",
    "\n",
    "You will need to import the following packages to use the clutter_map function:"
   ]
  },
  {
   "cell_type": "code",
   "execution_count": 1,
   "metadata": {
    "scrolled": true
   },
   "outputs": [
    {
     "name": "stdout",
     "output_type": "stream",
     "text": [
      "\n",
      "## You are using the Python ARM Radar Toolkit (Py-ART), an open source\n",
      "## library for working with weather radar data. Py-ART is partly\n",
      "## supported by the U.S. Department of Energy as part of the Atmospheric\n",
      "## Radiation Measurement (ARM) Climate Research Facility, an Office of\n",
      "## Science user facility.\n",
      "##\n",
      "## If you use this software to prepare a publication, please cite:\n",
      "##\n",
      "##     JJ Helmus and SM Collis, JORS 2016, doi: 10.5334/jors.119\n",
      "\n"
     ]
    },
    {
     "name": "stderr",
     "output_type": "stream",
     "text": [
      "/home/jupyter/anaconda3/lib/python3.6/site-packages/pyart/graph/cm.py:104: FutureWarning: elementwise comparison failed; returning scalar instead, but in the future will perform elementwise comparison\n",
      "  if 'red' in spec:\n",
      "/home/jupyter/anaconda3/lib/python3.6/site-packages/pyart/graph/cm_colorblind.py:32: FutureWarning: elementwise comparison failed; returning scalar instead, but in the future will perform elementwise comparison\n",
      "  if 'red' in spec:\n"
     ]
    },
    {
     "name": "stdout",
     "output_type": "stream",
     "text": [
      "/home/alexishunzinger/data/proj-shared/data_transfer/cor/corkasacrcfrhsrhiM1.a1/corkasacrcfrhsrhiM1.a1.20181105.014008.nc.v0\n",
      "/home/alexishunzinger/data/proj-shared/data_transfer/cor/corkasacrcfrhsrhiM1.a1/corkasacrcfrhsrhiM1.a1.20181105.155138.nc.v0\n",
      "/home/alexishunzinger/data/proj-shared/data_transfer/cor/corkasacrcfrhsrhiM1.a1/corkasacrcfrhsrhiM1.a1.20181105.220309.nc.v0\n"
     ]
    },
    {
     "ename": "KeyboardInterrupt",
     "evalue": "",
     "output_type": "error",
     "traceback": [
      "\u001b[0;31m---------------------------------------------------------------------------\u001b[0m",
      "\u001b[0;31mKeyboardInterrupt\u001b[0m                         Traceback (most recent call last)",
      "\u001b[0;32m<ipython-input-1-2d8d697c5395>\u001b[0m in \u001b[0;36m<module>\u001b[0;34m\u001b[0m\n\u001b[1;32m     19\u001b[0m \u001b[0mfile\u001b[0m \u001b[0;34m=\u001b[0m \u001b[0;34m'/home/alexishunzinger/projects/github/rca/src/rca/kaband_rhi.json'\u001b[0m\u001b[0;34m\u001b[0m\u001b[0;34m\u001b[0m\u001b[0m\n\u001b[1;32m     20\u001b[0m \u001b[0mdate\u001b[0m \u001b[0;34m=\u001b[0m \u001b[0;34m'20181105'\u001b[0m\u001b[0;34m\u001b[0m\u001b[0;34m\u001b[0m\u001b[0m\n\u001b[0;32m---> 21\u001b[0;31m \u001b[0mclutter_map\u001b[0m\u001b[0;34m(\u001b[0m\u001b[0mfile\u001b[0m\u001b[0;34m,\u001b[0m\u001b[0mdate\u001b[0m\u001b[0;34m)\u001b[0m\u001b[0;34m\u001b[0m\u001b[0;34m\u001b[0m\u001b[0m\n\u001b[0m",
      "\u001b[0;32m~/projects/github/rca/src/rca/clutter_map.py\u001b[0m in \u001b[0;36mclutter_map\u001b[0;34m(radar_config_file, date)\u001b[0m\n\u001b[1;32m    104\u001b[0m         \u001b[0;32mfor\u001b[0m \u001b[0mf\u001b[0m \u001b[0;32min\u001b[0m \u001b[0mglob\u001b[0m\u001b[0;34m.\u001b[0m\u001b[0mglob\u001b[0m\u001b[0;34m(\u001b[0m\u001b[0mos\u001b[0m\u001b[0;34m.\u001b[0m\u001b[0mpath\u001b[0m\u001b[0;34m.\u001b[0m\u001b[0mjoin\u001b[0m\u001b[0;34m(\u001b[0m\u001b[0mdatadir\u001b[0m\u001b[0;34m,\u001b[0m \u001b[0;34m\"*\"\u001b[0m \u001b[0;34m+\u001b[0m \u001b[0mcluttermap_date\u001b[0m \u001b[0;34m+\u001b[0m \u001b[0;34m\"*.??\"\u001b[0m\u001b[0;34m)\u001b[0m\u001b[0;34m)\u001b[0m\u001b[0;34m:\u001b[0m\u001b[0;34m\u001b[0m\u001b[0;34m\u001b[0m\u001b[0m\n\u001b[1;32m    105\u001b[0m             \u001b[0mprint\u001b[0m\u001b[0;34m(\u001b[0m\u001b[0mf\u001b[0m\u001b[0;34m)\u001b[0m\u001b[0;34m\u001b[0m\u001b[0;34m\u001b[0m\u001b[0m\n\u001b[0;32m--> 106\u001b[0;31m             \u001b[0mradar\u001b[0m \u001b[0;34m=\u001b[0m \u001b[0mfile_to_radar_object\u001b[0m\u001b[0;34m(\u001b[0m\u001b[0mf\u001b[0m\u001b[0;34m,\u001b[0m \u001b[0mextension\u001b[0m\u001b[0;34m)\u001b[0m\u001b[0;34m\u001b[0m\u001b[0;34m\u001b[0m\u001b[0m\n\u001b[0m\u001b[1;32m    107\u001b[0m             \u001b[0mvar_dict\u001b[0m \u001b[0;34m=\u001b[0m \u001b[0mget_var_arrays_from_radar_object\u001b[0m\u001b[0;34m(\u001b[0m\u001b[0mradar\u001b[0m\u001b[0;34m,\u001b[0m \u001b[0mradar_config_file\u001b[0m\u001b[0;34m)\u001b[0m\u001b[0;34m\u001b[0m\u001b[0;34m\u001b[0m\u001b[0m\n\u001b[1;32m    108\u001b[0m             dt, cflag_h = create_clutter_flag_hsrhi(\n",
      "\u001b[0;32m~/projects/github/rca/src/rca/modules/file_to_radar_object.py\u001b[0m in \u001b[0;36mfile_to_radar_object\u001b[0;34m(filename, extension)\u001b[0m\n\u001b[1;32m      5\u001b[0m     \u001b[0;34m\" Input radar filename and use appropriate PyART functions to read file and return radar object.  \"\u001b[0m\u001b[0;34m\u001b[0m\u001b[0;34m\u001b[0m\u001b[0m\n\u001b[1;32m      6\u001b[0m     \u001b[0;32mif\u001b[0m \u001b[0mextension\u001b[0m \u001b[0;34m==\u001b[0m \u001b[0;34m\".nc\"\u001b[0m\u001b[0;34m:\u001b[0m\u001b[0;34m\u001b[0m\u001b[0;34m\u001b[0m\u001b[0m\n\u001b[0;32m----> 7\u001b[0;31m         \u001b[0mradar\u001b[0m \u001b[0;34m=\u001b[0m \u001b[0mpyart\u001b[0m\u001b[0;34m.\u001b[0m\u001b[0mio\u001b[0m\u001b[0;34m.\u001b[0m\u001b[0mcfradial\u001b[0m\u001b[0;34m.\u001b[0m\u001b[0mread_cfradial\u001b[0m\u001b[0;34m(\u001b[0m\u001b[0mfilename\u001b[0m\u001b[0;34m,\u001b[0m \u001b[0mdelay_field_loading\u001b[0m\u001b[0;34m=\u001b[0m\u001b[0;32mTrue\u001b[0m\u001b[0;34m)\u001b[0m\u001b[0;34m\u001b[0m\u001b[0;34m\u001b[0m\u001b[0m\n\u001b[0m\u001b[1;32m      8\u001b[0m     \u001b[0;32melif\u001b[0m \u001b[0mextension\u001b[0m \u001b[0;34m==\u001b[0m \u001b[0;34m\".h5\"\u001b[0m\u001b[0;34m:\u001b[0m\u001b[0;34m\u001b[0m\u001b[0;34m\u001b[0m\u001b[0m\n\u001b[1;32m      9\u001b[0m         \u001b[0mradar\u001b[0m \u001b[0;34m=\u001b[0m \u001b[0mpyart\u001b[0m\u001b[0;34m.\u001b[0m\u001b[0maux_io\u001b[0m\u001b[0;34m.\u001b[0m\u001b[0mread_gamic\u001b[0m\u001b[0;34m(\u001b[0m\u001b[0mfilename\u001b[0m\u001b[0;34m,\u001b[0m \u001b[0mfile_field_names\u001b[0m\u001b[0;34m=\u001b[0m\u001b[0;32mTrue\u001b[0m\u001b[0;34m)\u001b[0m\u001b[0;34m\u001b[0m\u001b[0;34m\u001b[0m\u001b[0m\n",
      "\u001b[0;32m/home/jupyter/anaconda3/lib/python3.6/site-packages/pyart/io/cfradial.py\u001b[0m in \u001b[0;36mread_cfradial\u001b[0;34m(filename, field_names, additional_metadata, file_field_names, exclude_fields, include_fields, delay_field_loading, **kwargs)\u001b[0m\n\u001b[1;32m    125\u001b[0m \u001b[0;34m\u001b[0m\u001b[0m\n\u001b[1;32m    126\u001b[0m     \u001b[0;31m# read the data\u001b[0m\u001b[0;34m\u001b[0m\u001b[0;34m\u001b[0m\u001b[0;34m\u001b[0m\u001b[0m\n\u001b[0;32m--> 127\u001b[0;31m     \u001b[0mncobj\u001b[0m \u001b[0;34m=\u001b[0m \u001b[0mnetCDF4\u001b[0m\u001b[0;34m.\u001b[0m\u001b[0mDataset\u001b[0m\u001b[0;34m(\u001b[0m\u001b[0mfilename\u001b[0m\u001b[0;34m)\u001b[0m\u001b[0;34m\u001b[0m\u001b[0;34m\u001b[0m\u001b[0m\n\u001b[0m\u001b[1;32m    128\u001b[0m     \u001b[0mncvars\u001b[0m \u001b[0;34m=\u001b[0m \u001b[0mncobj\u001b[0m\u001b[0;34m.\u001b[0m\u001b[0mvariables\u001b[0m\u001b[0;34m\u001b[0m\u001b[0;34m\u001b[0m\u001b[0m\n\u001b[1;32m    129\u001b[0m \u001b[0;34m\u001b[0m\u001b[0m\n",
      "\u001b[0;32mnetCDF4/_netCDF4.pyx\u001b[0m in \u001b[0;36mnetCDF4._netCDF4.Dataset.__init__\u001b[0;34m()\u001b[0m\n",
      "\u001b[0;32mnetCDF4/_netCDF4.pyx\u001b[0m in \u001b[0;36mnetCDF4._netCDF4._get_vars\u001b[0;34m()\u001b[0m\n",
      "\u001b[0;32mnetCDF4/_netCDF4.pyx\u001b[0m in \u001b[0;36mnetCDF4._netCDF4.Variable.__init__\u001b[0;34m()\u001b[0m\n",
      "\u001b[0;32m/home/jupyter/anaconda3/lib/python3.6/site-packages/netCDF4/utils.py\u001b[0m in \u001b[0;36m_find_dim\u001b[0;34m(grp, dimname)\u001b[0m\n\u001b[1;32m     38\u001b[0m     \u001b[0;32mreturn\u001b[0m \u001b[0;34m[\u001b[0m\u001b[0mA\u001b[0m\u001b[0;34m[\u001b[0m\u001b[0mi\u001b[0m\u001b[0;34m]\u001b[0m \u001b[0;32mfor\u001b[0m \u001b[0mi\u001b[0m \u001b[0;32min\u001b[0m \u001b[0msorted\u001b[0m\u001b[0;34m(\u001b[0m\u001b[0mrange\u001b[0m\u001b[0;34m(\u001b[0m\u001b[0mlen\u001b[0m\u001b[0;34m(\u001b[0m\u001b[0mA\u001b[0m\u001b[0;34m)\u001b[0m\u001b[0;34m)\u001b[0m\u001b[0;34m,\u001b[0m \u001b[0mkey\u001b[0m\u001b[0;34m=\u001b[0m\u001b[0mB\u001b[0m\u001b[0;34m.\u001b[0m\u001b[0m__getitem__\u001b[0m\u001b[0;34m)\u001b[0m\u001b[0;34m]\u001b[0m\u001b[0;34m\u001b[0m\u001b[0;34m\u001b[0m\u001b[0m\n\u001b[1;32m     39\u001b[0m \u001b[0;34m\u001b[0m\u001b[0m\n\u001b[0;32m---> 40\u001b[0;31m \u001b[0;32mdef\u001b[0m \u001b[0m_find_dim\u001b[0m\u001b[0;34m(\u001b[0m\u001b[0mgrp\u001b[0m\u001b[0;34m,\u001b[0m \u001b[0mdimname\u001b[0m\u001b[0;34m)\u001b[0m\u001b[0;34m:\u001b[0m\u001b[0;34m\u001b[0m\u001b[0;34m\u001b[0m\u001b[0m\n\u001b[0m\u001b[1;32m     41\u001b[0m     \u001b[0;31m# find Dimension instance given group and name.\u001b[0m\u001b[0;34m\u001b[0m\u001b[0;34m\u001b[0m\u001b[0;34m\u001b[0m\u001b[0m\n\u001b[1;32m     42\u001b[0m     \u001b[0;31m# look in current group, and parents.\u001b[0m\u001b[0;34m\u001b[0m\u001b[0;34m\u001b[0m\u001b[0;34m\u001b[0m\u001b[0m\n",
      "\u001b[0;31mKeyboardInterrupt\u001b[0m: "
     ]
    }
   ],
   "source": [
    "import numpy as np\n",
    "import pyart\n",
    "import os\n",
    "import glob\n",
    "import json\n",
    "from netCDF4 import Dataset\n",
    "import sys\n",
    "\n",
    "sys.path.append('/home/alexishunzinger/projects/github/rca/src/rca/')\n",
    "from clutter_map import clutter_map\n",
    "\n",
    "sys.path.append('/home/alexishunzinger/projects/github/rca/src/rca/modules/')\n",
    "from create_clutter_flag import create_clutter_flag_ppi, create_clutter_flag_hsrhi\n",
    "from file_to_radar_object import file_to_radar_object\n",
    "\n",
    "\n",
    "# Replace the input with the JSON file named for the radar band and scan type\n",
    "# band_scan.json\n",
    "file = '/home/alexishunzinger/projects/github/rca/src/rca/kaband_rhi.json'\n",
    "date = '20181105'\n",
    "clutter_map(file,date)"
   ]
  },
  {
   "cell_type": "markdown",
   "metadata": {},
   "source": [
    "### 1a) Repeat (1) for all desired days you want to generate a daily clutter map\n",
    "\n",
    "Save the output .nc file to a directory specifically for clutter maps (recommended). \n",
    "\n",
    "This directory will be used as the input for the next step, composite clutter map generation."
   ]
  },
  {
   "cell_type": "markdown",
   "metadata": {},
   "source": [
    "## 2) Create a composite clutter map\n",
    "\n",
    "A composite clutter map is made up of all specified daily clutter maps that must be previously generated. The composite clutter map identifies points where at least 80% of the daily clutter maps have identified as clutter points. This ensures the clutter signature is stable, especially in regions where the ground clutter varies or fluctuates day-to-day.\n",
    "\n",
    "Use the composite_clutter_map function and a new netCDF is written with the composite clutter map in an array. The function takes the clutter_maps JSON file as input with current deafults the same as listed above.\n",
    "\n",
    "The following new packages are required to run composite_clutter_map:"
   ]
  },
  {
   "cell_type": "code",
   "execution_count": 2,
   "metadata": {},
   "outputs": [
    {
     "name": "stdout",
     "output_type": "stream",
     "text": [
      "/home/alexishunzinger/projects/rca_aux/clutter_maps/cluttermap_rhi_corxsacr_20181210.nc\n",
      "/home/alexishunzinger/projects/rca_aux/clutter_maps/cluttermap_rhi_corxsacr_20181130.nc\n",
      "/home/alexishunzinger/projects/rca_aux/clutter_maps/cluttermap_rhi_corxsacr_20181125.nc\n",
      "/home/alexishunzinger/projects/rca_aux/clutter_maps/cluttermap_rhi_corxsacr_composite.nc\n",
      "/home/alexishunzinger/projects/rca_aux/clutter_maps/cluttermap_rhi_corxsacr_20181205.nc\n",
      "/home/alexishunzinger/projects/rca_aux/clutter_maps/cluttermap_rhi_corxsacr_20181120.nc\n",
      "/home/alexishunzinger/projects/rca_aux/clutter_maps/cluttermap_rhi_corxsacr_20181215.nc\n",
      "/home/alexishunzinger/projects/rca_aux/clutter_maps/cluttermap_rhi_corxsacr_20181105.nc\n",
      "/home/alexishunzinger/projects/rca_aux/clutter_maps/cluttermap_rhi_corxsacr_20181110.nc\n",
      "/home/alexishunzinger/projects/rca_aux/clutter_maps/cluttermap_rhi_corxsacr_20181115.nc\n"
     ]
    }
   ],
   "source": [
    "import sys\n",
    "\n",
    "sys.path.append('/home/alexishunzinger/projects/github/rca/src/rca/')\n",
    "#from get_pct_on_clutter_map import get_pct_on_clutter_map_ppi, get_pct_on_clutter_map_hsrhi\n",
    "from composite_clutter_map import composite_clutter_map\n",
    "\n",
    "file = '/home/alexishunzinger/projects/github/rca/src/rca/clutter_maps.json'\n",
    "composite_clutter_map(file)"
   ]
  },
  {
   "cell_type": "markdown",
   "metadata": {},
   "source": [
    "### Plotting a clutter map\n",
    "A simple plot may be generated using the plot_clutter_map function. This helps visualize where the clutter points calculated previously are located spatially and how many points did or did not make the threshold.\n",
    "\n",
    "Specify either \"day\" or \"composite\" in the function input to represent the appropriate data.\n",
    "\n",
    "### Daily clutter map"
   ]
  },
  {
   "cell_type": "code",
   "execution_count": 3,
   "metadata": {},
   "outputs": [
    {
     "ename": "FileNotFoundError",
     "evalue": "[Errno 2] No such file or directory: b'/home/user/clutter_maps/cluttermap_ppi_corcsapr2_composite.nc'",
     "output_type": "error",
     "traceback": [
      "\u001b[0;31m---------------------------------------------------------------------------\u001b[0m",
      "\u001b[0;31mFileNotFoundError\u001b[0m                         Traceback (most recent call last)",
      "\u001b[0;32m<ipython-input-3-ae8701be8e89>\u001b[0m in \u001b[0;36m<module>\u001b[0;34m\u001b[0m\n\u001b[1;32m     15\u001b[0m \u001b[0minst\u001b[0m \u001b[0;34m=\u001b[0m \u001b[0;34m'csapr2'\u001b[0m\u001b[0;34m\u001b[0m\u001b[0;34m\u001b[0m\u001b[0m\n\u001b[1;32m     16\u001b[0m \u001b[0mlocation\u001b[0m \u001b[0;34m=\u001b[0m \u001b[0;34m'CORCSAPR2'\u001b[0m\u001b[0;34m\u001b[0m\u001b[0;34m\u001b[0m\u001b[0m\n\u001b[0;32m---> 17\u001b[0;31m \u001b[0mplot_clutter_map\u001b[0m\u001b[0;34m(\u001b[0m\u001b[0mclutter_map_netcdf\u001b[0m\u001b[0;34m,\u001b[0m\u001b[0moutput_directory\u001b[0m\u001b[0;34m,\u001b[0m\u001b[0mscan_type\u001b[0m\u001b[0;34m,\u001b[0m\u001b[0mmap_type\u001b[0m\u001b[0;34m,\u001b[0m\u001b[0mpolarization\u001b[0m\u001b[0;34m,\u001b[0m\u001b[0mmax_range\u001b[0m\u001b[0;34m,\u001b[0m\u001b[0msite\u001b[0m\u001b[0;34m,\u001b[0m\u001b[0minst\u001b[0m\u001b[0;34m,\u001b[0m\u001b[0mlocation\u001b[0m\u001b[0;34m)\u001b[0m\u001b[0;34m\u001b[0m\u001b[0;34m\u001b[0m\u001b[0m\n\u001b[0m",
      "\u001b[0;32m~/projects/github/rca/src/rca/modules/plot_clutter_map.py\u001b[0m in \u001b[0;36mplot_clutter_map\u001b[0;34m(clutter_map_netcdf, output_directory, scan_type, map_type, polarization, max_range, site, inst, location)\u001b[0m\n\u001b[1;32m     61\u001b[0m     \u001b[0mplt\u001b[0m\u001b[0;34m.\u001b[0m\u001b[0mrcParams\u001b[0m\u001b[0;34m.\u001b[0m\u001b[0mupdate\u001b[0m\u001b[0;34m(\u001b[0m\u001b[0mparams\u001b[0m\u001b[0;34m)\u001b[0m\u001b[0;34m\u001b[0m\u001b[0;34m\u001b[0m\u001b[0m\n\u001b[1;32m     62\u001b[0m \u001b[0;34m\u001b[0m\u001b[0m\n\u001b[0;32m---> 63\u001b[0;31m     \u001b[0md\u001b[0m \u001b[0;34m=\u001b[0m \u001b[0mDataset\u001b[0m\u001b[0;34m(\u001b[0m\u001b[0mclutter_map_netcdf\u001b[0m\u001b[0;34m)\u001b[0m\u001b[0;34m\u001b[0m\u001b[0;34m\u001b[0m\u001b[0m\n\u001b[0m\u001b[1;32m     64\u001b[0m \u001b[0;34m\u001b[0m\u001b[0m\n\u001b[1;32m     65\u001b[0m     \u001b[0;32mif\u001b[0m \u001b[0mscan_type\u001b[0m \u001b[0;34m==\u001b[0m \u001b[0;34m'ppi'\u001b[0m\u001b[0;34m:\u001b[0m\u001b[0;34m\u001b[0m\u001b[0;34m\u001b[0m\u001b[0m\n",
      "\u001b[0;32mnetCDF4/_netCDF4.pyx\u001b[0m in \u001b[0;36mnetCDF4._netCDF4.Dataset.__init__\u001b[0;34m()\u001b[0m\n",
      "\u001b[0;32mnetCDF4/_netCDF4.pyx\u001b[0m in \u001b[0;36mnetCDF4._netCDF4._ensure_nc_success\u001b[0;34m()\u001b[0m\n",
      "\u001b[0;31mFileNotFoundError\u001b[0m: [Errno 2] No such file or directory: b'/home/user/clutter_maps/cluttermap_ppi_corcsapr2_composite.nc'"
     ]
    }
   ],
   "source": [
    "import matplotlib.pyplot as plt\n",
    "from netCDF4 import Dataset\n",
    "import sys\n",
    "\n",
    "sys.path.append('/home/alexishunzinger/projects/github/rca/src/rca/modules/')\n",
    "from plot_clutter_map import plot_clutter_map\n",
    "\n",
    "clutter_map_netcdf = '/home/user/clutter_maps/cluttermap_ppi_corcsapr2_composite.nc'\n",
    "output_directory = '/home/user/figures/'\n",
    "scan_type = 'ppi'\n",
    "map_type = '20181105'\n",
    "polarization = 'horizontal'\n",
    "max_range = 10\n",
    "site = 'cor'\n",
    "inst = 'csapr2'\n",
    "location = 'CORCSAPR2'\n",
    "plot_clutter_map(clutter_map_netcdf,output_directory,scan_type,map_type,polarization,max_range,site,inst,location)"
   ]
  },
  {
   "cell_type": "markdown",
   "metadata": {},
   "source": [
    "### Composite clutter map\n",
    "\n",
    "Change the inputs and use the same function to generate a composite clutter map. The color bar differs from the daily map, showing determined clutter points in black. These are the elements that are used to calculate clutter area reflectivity in the baseline and daily calculations."
   ]
  },
  {
   "cell_type": "code",
   "execution_count": 4,
   "metadata": {},
   "outputs": [
    {
     "ename": "FileNotFoundError",
     "evalue": "[Errno 2] No such file or directory: b'/home/user/clutter_maps/cluttermap_ppi_corcsapr2_composite.nc'",
     "output_type": "error",
     "traceback": [
      "\u001b[0;31m---------------------------------------------------------------------------\u001b[0m",
      "\u001b[0;31mFileNotFoundError\u001b[0m                         Traceback (most recent call last)",
      "\u001b[0;32m<ipython-input-4-fcb65ccbee21>\u001b[0m in \u001b[0;36m<module>\u001b[0;34m\u001b[0m\n\u001b[1;32m      1\u001b[0m \u001b[0mmap_type\u001b[0m \u001b[0;34m=\u001b[0m \u001b[0;34m'composite'\u001b[0m\u001b[0;34m\u001b[0m\u001b[0;34m\u001b[0m\u001b[0m\n\u001b[0;32m----> 2\u001b[0;31m \u001b[0mplot_clutter_map\u001b[0m\u001b[0;34m(\u001b[0m\u001b[0mclutter_map_netcdf\u001b[0m\u001b[0;34m,\u001b[0m\u001b[0moutput_directory\u001b[0m\u001b[0;34m,\u001b[0m\u001b[0mscan_type\u001b[0m\u001b[0;34m,\u001b[0m\u001b[0mmap_type\u001b[0m\u001b[0;34m,\u001b[0m\u001b[0mpolarization\u001b[0m\u001b[0;34m,\u001b[0m\u001b[0mmax_range\u001b[0m\u001b[0;34m,\u001b[0m\u001b[0msite\u001b[0m\u001b[0;34m,\u001b[0m\u001b[0minst\u001b[0m\u001b[0;34m,\u001b[0m\u001b[0mlocation\u001b[0m\u001b[0;34m)\u001b[0m\u001b[0;34m\u001b[0m\u001b[0;34m\u001b[0m\u001b[0m\n\u001b[0m",
      "\u001b[0;32m~/projects/github/rca/src/rca/modules/plot_clutter_map.py\u001b[0m in \u001b[0;36mplot_clutter_map\u001b[0;34m(clutter_map_netcdf, output_directory, scan_type, map_type, polarization, max_range, site, inst, location)\u001b[0m\n\u001b[1;32m     61\u001b[0m     \u001b[0mplt\u001b[0m\u001b[0;34m.\u001b[0m\u001b[0mrcParams\u001b[0m\u001b[0;34m.\u001b[0m\u001b[0mupdate\u001b[0m\u001b[0;34m(\u001b[0m\u001b[0mparams\u001b[0m\u001b[0;34m)\u001b[0m\u001b[0;34m\u001b[0m\u001b[0;34m\u001b[0m\u001b[0m\n\u001b[1;32m     62\u001b[0m \u001b[0;34m\u001b[0m\u001b[0m\n\u001b[0;32m---> 63\u001b[0;31m     \u001b[0md\u001b[0m \u001b[0;34m=\u001b[0m \u001b[0mDataset\u001b[0m\u001b[0;34m(\u001b[0m\u001b[0mclutter_map_netcdf\u001b[0m\u001b[0;34m)\u001b[0m\u001b[0;34m\u001b[0m\u001b[0;34m\u001b[0m\u001b[0m\n\u001b[0m\u001b[1;32m     64\u001b[0m \u001b[0;34m\u001b[0m\u001b[0m\n\u001b[1;32m     65\u001b[0m     \u001b[0;32mif\u001b[0m \u001b[0mscan_type\u001b[0m \u001b[0;34m==\u001b[0m \u001b[0;34m'ppi'\u001b[0m\u001b[0;34m:\u001b[0m\u001b[0;34m\u001b[0m\u001b[0;34m\u001b[0m\u001b[0m\n",
      "\u001b[0;32mnetCDF4/_netCDF4.pyx\u001b[0m in \u001b[0;36mnetCDF4._netCDF4.Dataset.__init__\u001b[0;34m()\u001b[0m\n",
      "\u001b[0;32mnetCDF4/_netCDF4.pyx\u001b[0m in \u001b[0;36mnetCDF4._netCDF4._ensure_nc_success\u001b[0;34m()\u001b[0m\n",
      "\u001b[0;31mFileNotFoundError\u001b[0m: [Errno 2] No such file or directory: b'/home/user/clutter_maps/cluttermap_ppi_corcsapr2_composite.nc'"
     ]
    }
   ],
   "source": [
    "map_type = 'composite'\n",
    "plot_clutter_map(clutter_map_netcdf,output_directory,scan_type,map_type,polarization,max_range,site,inst,location)"
   ]
  },
  {
   "cell_type": "markdown",
   "metadata": {},
   "source": [
    "## 3) Calculate the baseline value\n",
    "\n",
    "The baseline is calculated using a day of radar files and the composite clutter map (highly recommended).\n",
    "\n",
    "Simply use the baseline function with relevant input (may use and adjust any of the radar_scan.json files)."
   ]
  },
  {
   "cell_type": "code",
   "execution_count": 1,
   "metadata": {},
   "outputs": [
    {
     "name": "stdout",
     "output_type": "stream",
     "text": [
      "\n",
      "## You are using the Python ARM Radar Toolkit (Py-ART), an open source\n",
      "## library for working with weather radar data. Py-ART is partly\n",
      "## supported by the U.S. Department of Energy as part of the Atmospheric\n",
      "## Radiation Measurement (ARM) Climate Research Facility, an Office of\n",
      "## Science user facility.\n",
      "##\n",
      "## If you use this software to prepare a publication, please cite:\n",
      "##\n",
      "##     JJ Helmus and SM Collis, JORS 2016, doi: 10.5334/jors.119\n",
      "\n"
     ]
    },
    {
     "name": "stderr",
     "output_type": "stream",
     "text": [
      "/home/jupyter/anaconda3/lib/python3.6/site-packages/pyart/graph/cm.py:104: FutureWarning: elementwise comparison failed; returning scalar instead, but in the future will perform elementwise comparison\n",
      "  if 'red' in spec:\n",
      "/home/jupyter/anaconda3/lib/python3.6/site-packages/pyart/graph/cm_colorblind.py:32: FutureWarning: elementwise comparison failed; returning scalar instead, but in the future will perform elementwise comparison\n",
      "  if 'red' in spec:\n"
     ]
    },
    {
     "name": "stdout",
     "output_type": "stream",
     "text": [
      "Baseline value:  nan dBZ\n"
     ]
    },
    {
     "name": "stderr",
     "output_type": "stream",
     "text": [
      "/home/jupyter/anaconda3/lib/python3.6/site-packages/numpy/lib/nanfunctions.py:1076: RuntimeWarning: Mean of empty slice\n",
      "  return np.nanmean(a, axis, out=out, keepdims=keepdims)\n"
     ]
    }
   ],
   "source": [
    "import numpy as np\n",
    "import os\n",
    "import glob\n",
    "import json\n",
    "from netCDF4 import Dataset\n",
    "import sys\n",
    "\n",
    "sys.path.append('/home/alexishunzinger/projects/github/rca/src/rca/modules/')\n",
    "from file_to_radar_object import file_to_radar_object\n",
    "from calculate_dbz95 import calculate_dbz95_ppi, calculate_dbz95_hsrhi\n",
    "\n",
    "sys.path.append('/home/alexishunzinger/projects/github/rca/src/rca/')\n",
    "from baseline import baseline\n",
    "\n",
    "radar_config_file = '/home/alexishunzinger/projects/github/rca/src/rca/xband_ppi.json'\n",
    "dbz95_h = baseline(radar_config_file)\n",
    "print('Baseline value: ', dbz95_h, 'dBZ')"
   ]
  },
  {
   "cell_type": "markdown",
   "metadata": {},
   "source": [
    "## 4) Calculate the RCA value\n",
    "\n",
    "The daily RCA value is calculated using a day of radar files, the composite clutter map, and the baseline value.\n",
    "\n",
    "All of these are read in using the daily_rca function. Again, specify which radar_scan.json to use and adjust accordingly. This function may be looped over for all days of interest. Each day has a mean RCA calculated and written to a CSV file.\n",
    "\n",
    "(It is recommended - and even necessary - to create the CSV file with appropriate headers before running the function. Daily CSV headers are: DATE, RCA_H, RCA_V, BASELINE)"
   ]
  },
  {
   "cell_type": "code",
   "execution_count": 1,
   "metadata": {},
   "outputs": [
    {
     "name": "stdout",
     "output_type": "stream",
     "text": [
      "\n",
      "## You are using the Python ARM Radar Toolkit (Py-ART), an open source\n",
      "## library for working with weather radar data. Py-ART is partly\n",
      "## supported by the U.S. Department of Energy as part of the Atmospheric\n",
      "## Radiation Measurement (ARM) Climate Research Facility, an Office of\n",
      "## Science user facility.\n",
      "##\n",
      "## If you use this software to prepare a publication, please cite:\n",
      "##\n",
      "##     JJ Helmus and SM Collis, JORS 2016, doi: 10.5334/jors.119\n",
      "\n"
     ]
    },
    {
     "name": "stderr",
     "output_type": "stream",
     "text": [
      "/home/jupyter/anaconda3/lib/python3.6/site-packages/pyart/graph/cm.py:104: FutureWarning: elementwise comparison failed; returning scalar instead, but in the future will perform elementwise comparison\n",
      "  if 'red' in spec:\n",
      "/home/jupyter/anaconda3/lib/python3.6/site-packages/pyart/graph/cm_colorblind.py:32: FutureWarning: elementwise comparison failed; returning scalar instead, but in the future will perform elementwise comparison\n",
      "  if 'red' in spec:\n",
      "/home/jupyter/anaconda3/lib/python3.6/site-packages/numpy/lib/nanfunctions.py:1076: RuntimeWarning: Mean of empty slice\n",
      "  return np.nanmean(a, axis, out=out, keepdims=keepdims)\n"
     ]
    }
   ],
   "source": [
    "import numpy as np\n",
    "import os\n",
    "import glob\n",
    "import json\n",
    "from netCDF4 import Dataset\n",
    "import pandas as pd\n",
    "import sys\n",
    "\n",
    "sys.path.append('/home/alexishunzinger/projects/github/rca/src/rca/modules/')\n",
    "from file_to_radar_object import file_to_radar_object\n",
    "from calculate_dbz95 import calculate_dbz95_ppi, calculate_dbz95_hsrhi\n",
    "\n",
    "sys.path.append('/home/alexishunzinger/projects/github/rca/src/rca/')\n",
    "from daily_rca import daily_rca\n",
    "\n",
    "radar_config_file = '/home/alexishunzinger/projects/github/rca/src/rca/xband_ppi.json'\n",
    "daily_rca(radar_config_file,'20181109')"
   ]
  },
  {
   "cell_type": "markdown",
   "metadata": {},
   "source": [
    "### Plot a timeseries of daily RCA values"
   ]
  },
  {
   "cell_type": "code",
   "execution_count": 2,
   "metadata": {},
   "outputs": [
    {
     "ename": "KeyError",
     "evalue": "'family is not a valid rc parameter (see rcParams.keys() for a list of valid parameters)'",
     "output_type": "error",
     "traceback": [
      "\u001b[0;31m---------------------------------------------------------------------------\u001b[0m",
      "\u001b[0;31mKeyError\u001b[0m                                  Traceback (most recent call last)",
      "\u001b[0;32m/home/jupyter/anaconda3/lib/python3.6/site-packages/matplotlib/__init__.py\u001b[0m in \u001b[0;36m__setitem__\u001b[0;34m(self, key, val)\u001b[0m\n\u001b[1;32m    788\u001b[0m             \u001b[0;32mtry\u001b[0m\u001b[0;34m:\u001b[0m\u001b[0;34m\u001b[0m\u001b[0;34m\u001b[0m\u001b[0m\n\u001b[0;32m--> 789\u001b[0;31m                 \u001b[0mcval\u001b[0m \u001b[0;34m=\u001b[0m \u001b[0mself\u001b[0m\u001b[0;34m.\u001b[0m\u001b[0mvalidate\u001b[0m\u001b[0;34m[\u001b[0m\u001b[0mkey\u001b[0m\u001b[0;34m]\u001b[0m\u001b[0;34m(\u001b[0m\u001b[0mval\u001b[0m\u001b[0;34m)\u001b[0m\u001b[0;34m\u001b[0m\u001b[0;34m\u001b[0m\u001b[0m\n\u001b[0m\u001b[1;32m    790\u001b[0m             \u001b[0;32mexcept\u001b[0m \u001b[0mValueError\u001b[0m \u001b[0;32mas\u001b[0m \u001b[0mve\u001b[0m\u001b[0;34m:\u001b[0m\u001b[0;34m\u001b[0m\u001b[0;34m\u001b[0m\u001b[0m\n",
      "\u001b[0;31mKeyError\u001b[0m: 'family'",
      "\nDuring handling of the above exception, another exception occurred:\n",
      "\u001b[0;31mKeyError\u001b[0m                                  Traceback (most recent call last)",
      "\u001b[0;32m<ipython-input-2-fda9c0f723ee>\u001b[0m in \u001b[0;36m<module>\u001b[0;34m\u001b[0m\n\u001b[1;32m     15\u001b[0m \u001b[0mlocation\u001b[0m \u001b[0;34m=\u001b[0m \u001b[0;34m'CORCSAPR2'\u001b[0m\u001b[0;34m\u001b[0m\u001b[0;34m\u001b[0m\u001b[0m\n\u001b[1;32m     16\u001b[0m \u001b[0;34m\u001b[0m\u001b[0m\n\u001b[0;32m---> 17\u001b[0;31m \u001b[0mplot_rca_timeseries_oneradar\u001b[0m\u001b[0;34m(\u001b[0m\u001b[0mrca_file\u001b[0m\u001b[0;34m,\u001b[0m\u001b[0moutput_directory\u001b[0m\u001b[0;34m,\u001b[0m\u001b[0mbaseline_date\u001b[0m\u001b[0;34m,\u001b[0m\u001b[0mpolarization\u001b[0m\u001b[0;34m,\u001b[0m\u001b[0mscan_type\u001b[0m\u001b[0;34m)\u001b[0m\u001b[0;34m\u001b[0m\u001b[0;34m\u001b[0m\u001b[0m\n\u001b[0m",
      "\u001b[0;32m~/projects/github/rca/src/rca/modules/plot_rca_timeseries.py\u001b[0m in \u001b[0;36mplot_rca_timeseries_oneradar\u001b[0;34m(rca_file, output_directory, baseline_date, polarization, scan_type)\u001b[0m\n\u001b[1;32m     68\u001b[0m               \u001b[0;34m'family'\u001b[0m\u001b[0;34m:\u001b[0m \u001b[0;34m'sans'\u001b[0m\u001b[0;34m,\u001b[0m\u001b[0;34m\u001b[0m\u001b[0;34m\u001b[0m\u001b[0m\n\u001b[1;32m     69\u001b[0m               'size': 11}          \n\u001b[0;32m---> 70\u001b[0;31m     \u001b[0mplt\u001b[0m\u001b[0;34m.\u001b[0m\u001b[0mrcParams\u001b[0m\u001b[0;34m.\u001b[0m\u001b[0mupdate\u001b[0m\u001b[0;34m(\u001b[0m\u001b[0mparams\u001b[0m\u001b[0;34m)\u001b[0m\u001b[0;34m\u001b[0m\u001b[0;34m\u001b[0m\u001b[0m\n\u001b[0m\u001b[1;32m     71\u001b[0m \u001b[0;34m\u001b[0m\u001b[0m\n\u001b[1;32m     72\u001b[0m     \u001b[0mdf\u001b[0m \u001b[0;34m=\u001b[0m \u001b[0mpd\u001b[0m\u001b[0;34m.\u001b[0m\u001b[0mread_csv\u001b[0m\u001b[0;34m(\u001b[0m\u001b[0mrca_file\u001b[0m\u001b[0;34m)\u001b[0m\u001b[0;34m\u001b[0m\u001b[0;34m\u001b[0m\u001b[0m\n",
      "\u001b[0;32m/home/jupyter/anaconda3/lib/python3.6/_collections_abc.py\u001b[0m in \u001b[0;36mupdate\u001b[0;34m(*args, **kwds)\u001b[0m\n\u001b[1;32m    839\u001b[0m             \u001b[0;32mif\u001b[0m \u001b[0misinstance\u001b[0m\u001b[0;34m(\u001b[0m\u001b[0mother\u001b[0m\u001b[0;34m,\u001b[0m \u001b[0mMapping\u001b[0m\u001b[0;34m)\u001b[0m\u001b[0;34m:\u001b[0m\u001b[0;34m\u001b[0m\u001b[0;34m\u001b[0m\u001b[0m\n\u001b[1;32m    840\u001b[0m                 \u001b[0;32mfor\u001b[0m \u001b[0mkey\u001b[0m \u001b[0;32min\u001b[0m \u001b[0mother\u001b[0m\u001b[0;34m:\u001b[0m\u001b[0;34m\u001b[0m\u001b[0;34m\u001b[0m\u001b[0m\n\u001b[0;32m--> 841\u001b[0;31m                     \u001b[0mself\u001b[0m\u001b[0;34m[\u001b[0m\u001b[0mkey\u001b[0m\u001b[0;34m]\u001b[0m \u001b[0;34m=\u001b[0m \u001b[0mother\u001b[0m\u001b[0;34m[\u001b[0m\u001b[0mkey\u001b[0m\u001b[0;34m]\u001b[0m\u001b[0;34m\u001b[0m\u001b[0;34m\u001b[0m\u001b[0m\n\u001b[0m\u001b[1;32m    842\u001b[0m             \u001b[0;32melif\u001b[0m \u001b[0mhasattr\u001b[0m\u001b[0;34m(\u001b[0m\u001b[0mother\u001b[0m\u001b[0;34m,\u001b[0m \u001b[0;34m\"keys\"\u001b[0m\u001b[0;34m)\u001b[0m\u001b[0;34m:\u001b[0m\u001b[0;34m\u001b[0m\u001b[0;34m\u001b[0m\u001b[0m\n\u001b[1;32m    843\u001b[0m                 \u001b[0;32mfor\u001b[0m \u001b[0mkey\u001b[0m \u001b[0;32min\u001b[0m \u001b[0mother\u001b[0m\u001b[0;34m.\u001b[0m\u001b[0mkeys\u001b[0m\u001b[0;34m(\u001b[0m\u001b[0;34m)\u001b[0m\u001b[0;34m:\u001b[0m\u001b[0;34m\u001b[0m\u001b[0;34m\u001b[0m\u001b[0m\n",
      "\u001b[0;32m/home/jupyter/anaconda3/lib/python3.6/site-packages/matplotlib/__init__.py\u001b[0m in \u001b[0;36m__setitem__\u001b[0;34m(self, key, val)\u001b[0m\n\u001b[1;32m    793\u001b[0m         \u001b[0;32mexcept\u001b[0m \u001b[0mKeyError\u001b[0m\u001b[0;34m:\u001b[0m\u001b[0;34m\u001b[0m\u001b[0;34m\u001b[0m\u001b[0m\n\u001b[1;32m    794\u001b[0m             raise KeyError(\n\u001b[0;32m--> 795\u001b[0;31m                 \u001b[0;34mf\"{key} is not a valid rc parameter (see rcParams.keys() for \"\u001b[0m\u001b[0;34m\u001b[0m\u001b[0;34m\u001b[0m\u001b[0m\n\u001b[0m\u001b[1;32m    796\u001b[0m                 f\"a list of valid parameters)\")\n\u001b[1;32m    797\u001b[0m \u001b[0;34m\u001b[0m\u001b[0m\n",
      "\u001b[0;31mKeyError\u001b[0m: 'family is not a valid rc parameter (see rcParams.keys() for a list of valid parameters)'"
     ]
    }
   ],
   "source": [
    "import matplotlib.pyplot as plt\n",
    "from netCDF4 import Dataset\n",
    "import sys\n",
    "\n",
    "sys.path.append('/home/alexishunzinger/projects/github/rca/src/rca/modules/')\n",
    "from plot_rca_timeseries import plot_rca_timeseries_oneradar\n",
    "\n",
    "rca_file = '/home/user/dailies/daily_rcavalues_ppi_enaxsapr2.csv'\n",
    "output_directory = '/home/user/figures/'\n",
    "baseline_date = '20180125'\n",
    "polarization = 'dual'\n",
    "scan_type = 'ppi'\n",
    "site = 'cor'\n",
    "inst = 'csapr2'\n",
    "location = 'CORCSAPR2'\n",
    "\n",
    "plot_rca_timeseries_oneradar(rca_file,output_directory,baseline_date,polarization,scan_type)"
   ]
  },
  {
   "cell_type": "code",
   "execution_count": null,
   "metadata": {},
   "outputs": [],
   "source": []
  }
 ],
 "metadata": {
  "kernelspec": {
   "display_name": "Python 3",
   "language": "python",
   "name": "python3"
  },
  "language_info": {
   "codemirror_mode": {
    "name": "ipython",
    "version": 3
   },
   "file_extension": ".py",
   "mimetype": "text/x-python",
   "name": "python",
   "nbconvert_exporter": "python",
   "pygments_lexer": "ipython3",
   "version": "3.6.7"
  }
 },
 "nbformat": 4,
 "nbformat_minor": 2
}
