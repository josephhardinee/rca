{
 "cells": [
  {
   "cell_type": "markdown",
   "metadata": {},
   "source": [
    "Reference text\n",
    "**bold**\n",
    "*italics*\n",
    "\n",
    " bullets\n",
    " * point 1\n",
    " * point 2 \n",
    "# Title\n",
    "\n",
    "## Subtitle\n",
    "\n",
    "### SubSubtitle\n",
    "\n",
    "LaTeX equations\n",
    "$ 1 + 1 = 2 $\n",
    "$$ x + y = z $$\n",
    "\n",
    "Markdown cheat sheet\n",
    "https://guides.github.com/pdfs/markdown-cheatsheet-online.pdf"
   ]
  },
  {
   "cell_type": "code",
   "execution_count": 16,
   "metadata": {},
   "outputs": [],
   "source": [
    "%matplotlib inline\n",
    "\n",
    "import matplotlib.pyplot as plt"
   ]
  },
  {
   "cell_type": "markdown",
   "metadata": {},
   "source": [
    "# Create a Daily Clutter Map\n",
    "\n",
    "Daily clutter map(s) must be created FIRST before any RCA calculations may be made.\n",
    "\n",
    "A daily clutter map is generated from a day's worth of radar files. You need only specify the directory of the radar files, the desired date (YYYYMMDD), the scan type (PPI or RHI), and if you're using horizontally or dual-polarized data. This is all done in the clutter_maps JSON file, which should be modifed by the user for their specifications.\n",
    "\n",
    "The current defaults in clutter_maps.json are:\n",
    "\n",
    "    \"scan_type\": \"rhi\",\n",
    "    \"polarization\": \"horizontal\",\n",
    "    \"data_directory\": \"/home/alexishunzinger/data/proj-shared/data_transfer/cor/corcsapr2cfrppiM1.a1/\",\n",
    "    \"file_extension\": \".nc\",\n",
    "    \"cluttermap_directory\": \"/home/alexishunzinger/projects/rca_aux/clutter_maps/\",\n",
    "    \"site_abbrev\": \"cor\",\n",
    "    \"instrument_abbrev\": \"kasacr\"\n"
   ]
  },
  {
   "cell_type": "code",
   "execution_count": 17,
   "metadata": {},
   "outputs": [],
   "source": [
    "# Here show to run clutter_map.py\n",
    "# in a terminal, ./clutter_map.py\n",
    "# a shell script, python clutter_map.py"
   ]
  },
  {
   "cell_type": "markdown",
   "metadata": {},
   "source": [
    "Repeat this for all desired days you want to generate a daily clutter map. \n",
    "\n",
    "Save the output .nc file to a directory specifically for clutter maps (recommended). \n",
    "\n",
    "This directory will be used as the input for the next step, composite clutter map generation."
   ]
  },
  {
   "cell_type": "markdown",
   "metadata": {},
   "source": [
    "## Plotting a daily clutter map"
   ]
  },
  {
   "cell_type": "code",
   "execution_count": 18,
   "metadata": {},
   "outputs": [],
   "source": [
    "# Simple plotting code here\n",
    "# ....or modify the plotting scripts to be more generic and make them callable functions or scripts"
   ]
  },
  {
   "cell_type": "markdown",
   "metadata": {},
   "source": [
    "# Create a Composite Clutter Map\n",
    "\n",
    "Composite clutter map is composed of all specified daily clutter maps that must be previously generated."
   ]
  },
  {
   "cell_type": "markdown",
   "metadata": {},
   "source": [
    "## Plotting a composite clutter map"
   ]
  },
  {
   "cell_type": "code",
   "execution_count": null,
   "metadata": {},
   "outputs": [],
   "source": []
  },
  {
   "cell_type": "markdown",
   "metadata": {},
   "source": [
    "# Calculate the Baseline Value\n",
    "\n",
    "The baseline is calculated using a day of radar files and the composite clutter map."
   ]
  },
  {
   "cell_type": "markdown",
   "metadata": {},
   "source": [
    "# Calculate the RCA Value\n",
    "\n",
    "The daily RCA value is calculated using a day of radar files, the composite clutter map, and the baseline value."
   ]
  },
  {
   "cell_type": "code",
   "execution_count": null,
   "metadata": {},
   "outputs": [],
   "source": []
  },
  {
   "cell_type": "code",
   "execution_count": null,
   "metadata": {},
   "outputs": [],
   "source": []
  }
 ],
 "metadata": {
  "kernelspec": {
   "display_name": "Python 3",
   "language": "python",
   "name": "python3"
  },
  "language_info": {
   "codemirror_mode": {
    "name": "ipython",
    "version": 3
   },
   "file_extension": ".py",
   "mimetype": "text/x-python",
   "name": "python",
   "nbconvert_exporter": "python",
   "pygments_lexer": "ipython3",
   "version": "3.6.8"
  }
 },
 "nbformat": 4,
 "nbformat_minor": 2
}
