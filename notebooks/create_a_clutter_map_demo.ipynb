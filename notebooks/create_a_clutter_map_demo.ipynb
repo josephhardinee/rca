{
 "cells": [
  {
   "cell_type": "code",
   "execution_count": 1,
   "metadata": {},
   "outputs": [
    {
     "ename": "SyntaxError",
     "evalue": "invalid syntax (<ipython-input-1-719235feef75>, line 3)",
     "output_type": "error",
     "traceback": [
      "\u001b[0;36m  File \u001b[0;32m\"<ipython-input-1-719235feef75>\"\u001b[0;36m, line \u001b[0;32m3\u001b[0m\n\u001b[0;31m    Daily clutter map(s) must be created FIRST before any RCA calculations may be made.\u001b[0m\n\u001b[0m                ^\u001b[0m\n\u001b[0;31mSyntaxError\u001b[0m\u001b[0;31m:\u001b[0m invalid syntax\n"
     ]
    }
   ],
   "source": [
    "## 1 ) Create a daily clutter map\n",
    "\n",
    "Daily clutter map(s) must be created FIRST before any RCA calculations may be made.\n",
    "\n",
    "A daily clutter map is generated from a day's worth of radar files. You need only specify the directory of the radar files, the desired date (YYYYMMDD), the scan type (PPI or RHI), and if you're using horizontally- or dual-polarized data. This is all done in the a handful of radar- and scan-specific JSON files, which should be modifed by the user for their specifications.\n",
    "\n",
    "The current defaults in, for example, kaband_rhi.json are:\n",
    "\n",
    "    \"config\": \"kaband_rhi\",\n",
    "    \"scan_type\": \"rhi\",\n",
    "    \"polarization\": \"horizontal\",\n",
    "    \"data_directory\": \"/home/user/data/corkasacrcfrhsrhiM1.a1/\",\n",
    "    \"file_extension\": \".nc\",\n",
    "    \"cluttermap_directory\": \"/home/user/clutter_maps/\",\n",
    "    \"cluttermap_date\": \"20181105\",\n",
    "    \"baseline_directory\": \"/home/user/baselines/\",\n",
    "    \"baseline_date\": \"20181120\",\n",
    "    \"daily_csv_dir\": \"/home/user/dailies/\",\n",
    "    \"site_abbrev\": \"cor\",\n",
    "    \"instrument_abbrev\": \"kasacr\",\n",
    "    \"range_limit\": 20000,\n",
    "    \"z_threshold\": 10"
   ]
  },
  {
   "cell_type": "code",
   "execution_count": 2,
   "metadata": {},
   "outputs": [
    {
     "ename": "SyntaxError",
     "evalue": "invalid syntax (<ipython-input-2-4f4d925ba581>, line 1)",
     "output_type": "error",
     "traceback": [
      "\u001b[0;36m  File \u001b[0;32m\"<ipython-input-2-4f4d925ba581>\"\u001b[0;36m, line \u001b[0;32m1\u001b[0m\n\u001b[0;31m    Call the clutter_map function from clutter_map.py. You will need to adjust the paramters in the .json configuration file before using the JSON file as input for the function.\u001b[0m\n\u001b[0m           ^\u001b[0m\n\u001b[0;31mSyntaxError\u001b[0m\u001b[0;31m:\u001b[0m invalid syntax\n"
     ]
    }
   ],
   "source": [
    "Call the clutter_map function from clutter_map.py. You will need to adjust the paramters in the .json configuration file before using the JSON file as input for the function.\n",
    "\n",
    "You will need to import the following packages to use the clutter_map function:"
   ]
  },
  {
   "cell_type": "code",
   "execution_count": 3,
   "metadata": {},
   "outputs": [
    {
     "name": "stdout",
     "output_type": "stream",
     "text": [
      "\n",
      "## You are using the Python ARM Radar Toolkit (Py-ART), an open source\n",
      "## library for working with weather radar data. Py-ART is partly\n",
      "## supported by the U.S. Department of Energy as part of the Atmospheric\n",
      "## Radiation Measurement (ARM) Climate Research Facility, an Office of\n",
      "## Science user facility.\n",
      "##\n",
      "## If you use this software to prepare a publication, please cite:\n",
      "##\n",
      "##     JJ Helmus and SM Collis, JORS 2016, doi: 10.5334/jors.119\n",
      "\n"
     ]
    },
    {
     "ename": "ModuleNotFoundError",
     "evalue": "No module named 'clutter_map'",
     "output_type": "error",
     "traceback": [
      "\u001b[0;31m---------------------------------------------------------------------------\u001b[0m",
      "\u001b[0;31mModuleNotFoundError\u001b[0m                       Traceback (most recent call last)",
      "\u001b[0;32m<ipython-input-3-2d8d697c5395>\u001b[0m in \u001b[0;36m<module>\u001b[0;34m\u001b[0m\n\u001b[1;32m      8\u001b[0m \u001b[0;34m\u001b[0m\u001b[0m\n\u001b[1;32m      9\u001b[0m \u001b[0msys\u001b[0m\u001b[0;34m.\u001b[0m\u001b[0mpath\u001b[0m\u001b[0;34m.\u001b[0m\u001b[0mappend\u001b[0m\u001b[0;34m(\u001b[0m\u001b[0;34m'/home/alexishunzinger/projects/github/rca/src/rca/'\u001b[0m\u001b[0;34m)\u001b[0m\u001b[0;34m\u001b[0m\u001b[0;34m\u001b[0m\u001b[0m\n\u001b[0;32m---> 10\u001b[0;31m \u001b[0;32mfrom\u001b[0m \u001b[0mclutter_map\u001b[0m \u001b[0;32mimport\u001b[0m \u001b[0mclutter_map\u001b[0m\u001b[0;34m\u001b[0m\u001b[0;34m\u001b[0m\u001b[0m\n\u001b[0m\u001b[1;32m     11\u001b[0m \u001b[0;34m\u001b[0m\u001b[0m\n\u001b[1;32m     12\u001b[0m \u001b[0msys\u001b[0m\u001b[0;34m.\u001b[0m\u001b[0mpath\u001b[0m\u001b[0;34m.\u001b[0m\u001b[0mappend\u001b[0m\u001b[0;34m(\u001b[0m\u001b[0;34m'/home/alexishunzinger/projects/github/rca/src/rca/modules/'\u001b[0m\u001b[0;34m)\u001b[0m\u001b[0;34m\u001b[0m\u001b[0;34m\u001b[0m\u001b[0m\n",
      "\u001b[0;31mModuleNotFoundError\u001b[0m: No module named 'clutter_map'"
     ]
    }
   ],
   "source": [
    "import numpy as np\n",
    "import pyart\n",
    "import os\n",
    "import glob\n",
    "import json\n",
    "from netCDF4 import Dataset\n",
    "import sys\n",
    "\n",
    "sys.path.append('/home/alexishunzinger/projects/github/rca/src/rca/')\n",
    "from clutter_map import clutter_map\n",
    "\n",
    "sys.path.append('/home/alexishunzinger/projects/github/rca/src/rca/modules/')\n",
    "from create_clutter_flag import create_clutter_flag_ppi, create_clutter_flag_hsrhi\n",
    "from file_to_radar_object import file_to_radar_object\n",
    "\n",
    "\n",
    "# Replace the input with the JSON file named for the radar band and scan type\n",
    "# band_scan.json\n",
    "file = '/home/alexishunzinger/projects/github/rca/src/rca/kaband_rhi.json'\n",
    "date = '20181105'\n",
    "clutter_map(file,date)"
   ]
  },
  {
   "cell_type": "code",
   "execution_count": 4,
   "metadata": {},
   "outputs": [
    {
     "ename": "SyntaxError",
     "evalue": "invalid syntax (<ipython-input-4-cb1c61848afb>, line 3)",
     "output_type": "error",
     "traceback": [
      "\u001b[0;36m  File \u001b[0;32m\"<ipython-input-4-cb1c61848afb>\"\u001b[0;36m, line \u001b[0;32m3\u001b[0m\n\u001b[0;31m    Save the output .nc file to a directory specifically for clutter maps (recommended).\u001b[0m\n\u001b[0m           ^\u001b[0m\n\u001b[0;31mSyntaxError\u001b[0m\u001b[0;31m:\u001b[0m invalid syntax\n"
     ]
    }
   ],
   "source": [
    "### 1a) Repeat (1) for all desired days you want to generate a daily clutter map\n",
    "\n",
    "Save the output .nc file to a directory specifically for clutter maps (recommended). \n",
    "\n",
    "This directory will be used as the input for the next step, composite clutter map generation."
   ]
  },
  {
   "cell_type": "code",
   "execution_count": 5,
   "metadata": {},
   "outputs": [
    {
     "ename": "SyntaxError",
     "evalue": "invalid syntax (<ipython-input-5-e78cf2fa30d5>, line 3)",
     "output_type": "error",
     "traceback": [
      "\u001b[0;36m  File \u001b[0;32m\"<ipython-input-5-e78cf2fa30d5>\"\u001b[0;36m, line \u001b[0;32m3\u001b[0m\n\u001b[0;31m    A composite clutter map is made up of all specified daily clutter maps that must be previously generated. The composite clutter map identifies points where at least 80% of the daily clutter maps have identified as clutter points. This ensures the clutter signature is stable, especially in regions where the ground clutter varies or fluctuates day-to-day.\u001b[0m\n\u001b[0m              ^\u001b[0m\n\u001b[0;31mSyntaxError\u001b[0m\u001b[0;31m:\u001b[0m invalid syntax\n"
     ]
    }
   ],
   "source": [
    "## 2) Create a composite clutter map\n",
    "\n",
    "A composite clutter map is made up of all specified daily clutter maps that must be previously generated. The composite clutter map identifies points where at least 80% of the daily clutter maps have identified as clutter points. This ensures the clutter signature is stable, especially in regions where the ground clutter varies or fluctuates day-to-day.\n",
    "\n",
    "Use the composite_clutter_map function and a new netCDF is written with the composite clutter map in an array. The function takes the clutter_maps JSON file as input with current deafults the same as listed above.\n",
    "\n",
    "The following new packages are required to run composite_clutter_map:"
   ]
  },
  {
   "cell_type": "code",
   "execution_count": null,
   "metadata": {},
   "outputs": [],
   "source": [
    "import sys\n",
    "\n",
    "sys.path.append('/home/alexishunzinger/projects/github/rca/src/rca/')\n",
    "#from get_pct_on_clutter_map import get_pct_on_clutter_map_ppi, get_pct_on_clutter_map_hsrhi\n",
    "from composite_clutter_map import composite_clutter_map\n",
    "\n",
    "file = '/home/alexishunzinger/projects/github/rca/src/rca/clutter_maps.json'\n",
    "composite_clutter_map(file)"
   ]
  }
 ],
 "metadata": {
  "kernelspec": {
   "display_name": "Python 3",
   "language": "python",
   "name": "python3"
  },
  "language_info": {
   "codemirror_mode": {
    "name": "ipython",
    "version": 3
   },
   "file_extension": ".py",
   "mimetype": "text/x-python",
   "name": "python",
   "nbconvert_exporter": "python",
   "pygments_lexer": "ipython3",
   "version": "3.6.8"
  }
 },
 "nbformat": 4,
 "nbformat_minor": 2
}
