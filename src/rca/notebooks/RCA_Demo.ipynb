{
 "cells": [
  {
   "cell_type": "markdown",
   "metadata": {},
   "source": [
    "Reference text\n",
    "**bold**\n",
    "*italics*\n",
    "\n",
    " bullets\n",
    " * point 1\n",
    " * point 2 \n",
    "# Title\n",
    "\n",
    "## Subtitle\n",
    "\n",
    "### SubSubtitle\n",
    "\n",
    "LaTeX equations\n",
    "$ 1 + 1 = 2 $\n",
    "$$ x + y = z $$\n",
    "\n",
    "Markdown cheat sheet\n",
    "https://guides.github.com/pdfs/markdown-cheatsheet-online.pdf"
   ]
  },
  {
   "cell_type": "code",
   "execution_count": 3,
   "metadata": {},
   "outputs": [],
   "source": [
    "%matplotlib inline\n",
    "\n",
    "import matplotlib.pyplot as plt"
   ]
  },
  {
   "cell_type": "markdown",
   "metadata": {},
   "source": [
    "# Create a daily clutter map\n",
    "\n",
    "Daily clutter map(s) must be created FIRST before any RCA calculations may be made.\n",
    "\n",
    "A daily clutter map is generated from a day's worth of radar files. You need only specify the directory of the radar files, the desired date (YYYYMMDD), the scan type (PPI or RHI), and if you're using horizontally or dual-polarized data. This is all done in the clutter_maps JSON file, which should be modifed by the user for their specifications.\n",
    "\n",
    "The current defaults in clutter_maps.json are:\n",
    "\n",
    "    \"scan_type\": \"rhi\",\n",
    "    \"polarization\": \"horizontal\",\n",
    "    \"data_directory\": \"/home/alexishunzinger/data/proj-shared/data_transfer/cor/corcsapr2cfrppiM1.a1/\",\n",
    "    \"file_extension\": \".nc\",\n",
    "    \"cluttermap_directory\": \"/home/alexishunzinger/projects/rca_aux/clutter_maps/\",\n",
    "    \"site_abbrev\": \"cor\",\n",
    "    \"instrument_abbrev\": \"kasacr\"\n"
   ]
  },
  {
   "cell_type": "markdown",
   "metadata": {},
   "source": [
    "Call the clutter_map function from clutter_map.py. You will need to adjust the paramters in the clutter_maps.json configuration file before using the JSON file as input for the funtion.\n",
    "\n",
    "You will need to import the following packages to use the clutter_map function:"
   ]
  },
  {
   "cell_type": "code",
   "execution_count": 8,
   "metadata": {
    "scrolled": true
   },
   "outputs": [
    {
     "ename": "ModuleNotFoundError",
     "evalue": "No module named 'create_clutter_flag'",
     "output_type": "error",
     "traceback": [
      "\u001b[0;31m---------------------------------------------------------------------------\u001b[0m",
      "\u001b[0;31mModuleNotFoundError\u001b[0m                       Traceback (most recent call last)",
      "\u001b[0;32m<ipython-input-8-01d345e7b295>\u001b[0m in \u001b[0;36m<module>\u001b[0;34m\u001b[0m\n\u001b[1;32m      5\u001b[0m \u001b[0;32mimport\u001b[0m \u001b[0mjson\u001b[0m\u001b[0;34m\u001b[0m\u001b[0;34m\u001b[0m\u001b[0m\n\u001b[1;32m      6\u001b[0m \u001b[0;32mfrom\u001b[0m \u001b[0mnetCDF4\u001b[0m \u001b[0;32mimport\u001b[0m \u001b[0mDataset\u001b[0m\u001b[0;34m\u001b[0m\u001b[0;34m\u001b[0m\u001b[0m\n\u001b[0;32m----> 7\u001b[0;31m \u001b[0;32mfrom\u001b[0m \u001b[0mcreate_clutter_flag\u001b[0m \u001b[0;32mimport\u001b[0m \u001b[0mcreate_clutter_flag_ppi\u001b[0m\u001b[0;34m,\u001b[0m \u001b[0mcreate_clutter_flag_hsrhi\u001b[0m\u001b[0;34m\u001b[0m\u001b[0;34m\u001b[0m\u001b[0m\n\u001b[0m\u001b[1;32m      8\u001b[0m \u001b[0;32mfrom\u001b[0m \u001b[0mfile_to_radar_object\u001b[0m \u001b[0;32mimport\u001b[0m \u001b[0mfile_to_radar_object\u001b[0m\u001b[0;34m\u001b[0m\u001b[0;34m\u001b[0m\u001b[0m\n\u001b[1;32m      9\u001b[0m \u001b[0;32mfrom\u001b[0m \u001b[0mclutter_map\u001b[0m \u001b[0;32mimport\u001b[0m \u001b[0mclutter_map\u001b[0m\u001b[0;34m\u001b[0m\u001b[0;34m\u001b[0m\u001b[0m\n",
      "\u001b[0;31mModuleNotFoundError\u001b[0m: No module named 'create_clutter_flag'"
     ]
    }
   ],
   "source": [
    "import numpy as np\n",
    "import pyart\n",
    "import os\n",
    "import glob\n",
    "import json\n",
    "from netCDF4 import Dataset\n",
    "from create_clutter_flag import create_clutter_flag_ppi, create_clutter_flag_hsrhi\n",
    "from file_to_radar_object import file_to_radar_object\n",
    "from clutter_map import clutter_map\n",
    "\n",
    "clutter_map('../clutter_maps.json')"
   ]
  },
  {
   "cell_type": "markdown",
   "metadata": {},
   "source": [
    "Repeat this for all desired days you want to generate a daily clutter map. \n",
    "\n",
    "Save the output .nc file to a directory specifically for clutter maps (recommended). \n",
    "\n",
    "This directory will be used as the input for the next step, composite clutter map generation."
   ]
  },
  {
   "cell_type": "markdown",
   "metadata": {},
   "source": [
    "# Create a composite clutter map\n",
    "\n",
    "A composite clutter map is composed of all specified daily clutter maps that must be previously generated. The composite clutter map identifies points where at least 80% of the daily clutter maps have identified as clutter points. This ensures the clutter signature is stable, especially in regions where the ground clutter varies or fluctuates day-to-day.\n",
    "\n",
    "Use the composite_clutter_map function and a new netCDF is written with the composite clutter map in an array. The function takes the clutter_maps JSON file as input with current deafults the same as listed above.\n",
    "\n",
    "The following new packages are required to run composite_clutter_map:"
   ]
  },
  {
   "cell_type": "code",
   "execution_count": 10,
   "metadata": {},
   "outputs": [
    {
     "ename": "ModuleNotFoundError",
     "evalue": "No module named 'get_pct_on_clutter_map'",
     "output_type": "error",
     "traceback": [
      "\u001b[0;31m---------------------------------------------------------------------------\u001b[0m",
      "\u001b[0;31mModuleNotFoundError\u001b[0m                       Traceback (most recent call last)",
      "\u001b[0;32m<ipython-input-10-fd436be39215>\u001b[0m in \u001b[0;36m<module>\u001b[0;34m\u001b[0m\n\u001b[0;32m----> 1\u001b[0;31m \u001b[0;32mfrom\u001b[0m \u001b[0mget_pct_on_clutter_map\u001b[0m \u001b[0;32mimport\u001b[0m \u001b[0;34m(\u001b[0m\u001b[0mget_pct_on_clutter_map_ppi\u001b[0m\u001b[0;34m,\u001b[0m\u001b[0mget_pct_on_clutter_map_hsrhi\u001b[0m\u001b[0;34m)\u001b[0m\u001b[0;34m\u001b[0m\u001b[0;34m\u001b[0m\u001b[0m\n\u001b[0m\u001b[1;32m      2\u001b[0m \u001b[0;32mfrom\u001b[0m \u001b[0mcomposite_clutter_map\u001b[0m \u001b[0;32mimport\u001b[0m \u001b[0mcomposite_clutter_map\u001b[0m\u001b[0;34m\u001b[0m\u001b[0;34m\u001b[0m\u001b[0m\n\u001b[1;32m      3\u001b[0m \u001b[0;34m\u001b[0m\u001b[0m\n\u001b[1;32m      4\u001b[0m \u001b[0mcomposite_clutter_map\u001b[0m\u001b[0;34m(\u001b[0m\u001b[0;34m'../clutter_maps.json'\u001b[0m\u001b[0;34m)\u001b[0m\u001b[0;34m\u001b[0m\u001b[0;34m\u001b[0m\u001b[0m\n",
      "\u001b[0;31mModuleNotFoundError\u001b[0m: No module named 'get_pct_on_clutter_map'"
     ]
    }
   ],
   "source": [
    "from get_pct_on_clutter_map import (get_pct_on_clutter_map_ppi,get_pct_on_clutter_map_hsrhi)\n",
    "from composite_clutter_map import composite_clutter_map\n",
    "\n",
    "composite_clutter_map('../clutter_maps.json')"
   ]
  },
  {
   "cell_type": "markdown",
   "metadata": {},
   "source": [
    "(( Simple plotting code here\n",
    " ....or modify the plotting scripts to be more generic and make them callable functions or scripts ))\n",
    "### Plotting a daily clutter map\n",
    "A simple plot may be generated using the plot_clutter_map function. This helps visualize where the clutter points calculated previously are located spatially and how many points did or did not make the threshold.\n",
    "\n",
    "Specify either \"day\" or \"composite\" in the function input to represent the appropriate data."
   ]
  },
  {
   "cell_type": "code",
   "execution_count": 12,
   "metadata": {},
   "outputs": [
    {
     "ename": "NameError",
     "evalue": "name 'plot_clutter_map' is not defined",
     "output_type": "error",
     "traceback": [
      "\u001b[0;31m---------------------------------------------------------------------------\u001b[0m",
      "\u001b[0;31mNameError\u001b[0m                                 Traceback (most recent call last)",
      "\u001b[0;32m<ipython-input-12-c4769edf7efe>\u001b[0m in \u001b[0;36m<module>\u001b[0;34m\u001b[0m\n\u001b[1;32m      1\u001b[0m \u001b[0;32mimport\u001b[0m \u001b[0mmatplotlib\u001b[0m\u001b[0;34m.\u001b[0m\u001b[0mpyplot\u001b[0m \u001b[0;32mas\u001b[0m \u001b[0mplt\u001b[0m\u001b[0;34m\u001b[0m\u001b[0;34m\u001b[0m\u001b[0m\n\u001b[1;32m      2\u001b[0m \u001b[0;34m\u001b[0m\u001b[0m\n\u001b[0;32m----> 3\u001b[0;31m \u001b[0mplot_clutter_map\u001b[0m\u001b[0;34m(\u001b[0m\u001b[0mclutter_map_netcdf\u001b[0m\u001b[0;34m,\u001b[0m\u001b[0mtype\u001b[0m\u001b[0;34m=\u001b[0m\u001b[0;34m'composite'\u001b[0m\u001b[0;34m)\u001b[0m\u001b[0;34m\u001b[0m\u001b[0;34m\u001b[0m\u001b[0m\n\u001b[0m",
      "\u001b[0;31mNameError\u001b[0m: name 'plot_clutter_map' is not defined"
     ]
    }
   ],
   "source": [
    "import matplotlib.pyplot as plt\n",
    "from plot_clutter_map import plot_clutter_map\n",
    "\n",
    "plot_clutter_map(clutter_map_netcdf,output_directory,scan_type,map_type,polarization,max_range)"
   ]
  },
  {
   "cell_type": "code",
   "execution_count": null,
   "metadata": {},
   "outputs": [],
   "source": []
  },
  {
   "cell_type": "markdown",
   "metadata": {},
   "source": [
    "# Calculate the baseline value\n",
    "\n",
    "The baseline is calculated using a day of radar files and the composite clutter map."
   ]
  },
  {
   "cell_type": "markdown",
   "metadata": {},
   "source": [
    "# Calculate the RCA value\n",
    "\n",
    "The daily RCA value is calculated using a day of radar files, the composite clutter map, and the baseline value."
   ]
  },
  {
   "cell_type": "code",
   "execution_count": null,
   "metadata": {},
   "outputs": [],
   "source": []
  },
  {
   "cell_type": "code",
   "execution_count": null,
   "metadata": {},
   "outputs": [],
   "source": []
  }
 ],
 "metadata": {
  "kernelspec": {
   "display_name": "Python 3",
   "language": "python",
   "name": "python3"
  },
  "language_info": {
   "codemirror_mode": {
    "name": "ipython",
    "version": 3
   },
   "file_extension": ".py",
   "mimetype": "text/x-python",
   "name": "python",
   "nbconvert_exporter": "python",
   "pygments_lexer": "ipython3",
   "version": "3.6.8"
  }
 },
 "nbformat": 4,
 "nbformat_minor": 2
}
